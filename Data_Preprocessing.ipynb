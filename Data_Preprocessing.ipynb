{
 "cells": [
  {
   "cell_type": "markdown",
   "source": [
    "### Preprocessing (Resizing, Augmentation and Class Balancing)"
   ],
   "metadata": {
    "collapsed": false
   },
   "id": "7db1b207b9fc2a5"
  },
  {
   "cell_type": "code",
   "outputs": [
    {
     "name": "stdout",
     "output_type": "stream",
     "text": [
      "120\n",
      "561\n",
      "416\n"
     ]
    }
   ],
   "source": [
    "import os\n",
    "\n",
    "# Check how many images in each folder\n",
    "base_dir = \"datasets/iqothnccd-lung-cancer-dataset/versions/2/The IQ-OTHNCCD lung cancer dataset/The IQ-OTHNCCD lung cancer dataset\"\n",
    "labels = [\"Benign cases\", \"Malignant cases\", \"Normal cases\"]\n",
    "for class_name in labels:\n",
    "    class_folder = os.path.join(base_dir, class_name)\n",
    "    files = [f for f in os.listdir(class_folder)]\n",
    "    print(len(files))"
   ],
   "metadata": {
    "collapsed": true,
    "ExecuteTime": {
     "end_time": "2025-06-09T09:20:15.073882Z",
     "start_time": "2025-06-09T09:20:15.064630Z"
    }
   },
   "id": "initial_id",
   "execution_count": 1
  },
  {
   "cell_type": "code",
   "outputs": [
    {
     "name": "stdout",
     "output_type": "stream",
     "text": [
      "Need to generate 480 more images for Benign cases\n",
      "Need to generate 39 more images for Malignant cases\n",
      "Need to generate 184 more images for Normal cases\n",
      "Augmentation complete for all classes!.\n"
     ]
    }
   ],
   "source": [
    "import shutil\n",
    "import random \n",
    "from PIL import Image, ImageEnhance\n",
    "\n",
    "output_dir = \"./datasets/preprocessed_data/\"\n",
    "if os.path.exists(output_dir):\n",
    "    shutil.rmtree(output_dir)\n",
    "os.makedirs(output_dir)\n",
    "\n",
    "target_count = 600\n",
    "img_size = (512, 512) #Augmentation\n",
    "\n",
    "def get_random_transform():\n",
    "    options = [\n",
    "        lambda img: img.transpose(Image.FLIP_LEFT_RIGHT),  # Horizontal flip\n",
    "        lambda img: img.transpose(Image.FLIP_TOP_BOTTOM),  # Vertical flip\n",
    "        lambda img: img.rotate(random.uniform(-30, 30)),  # Random rotation\n",
    "        lambda img: ImageEnhance.Contrast(img).enhance(random.uniform(1.2, 1.8)),  # Random contrast\n",
    "        lambda img: ImageEnhance.Sharpness(img).enhance(random.uniform(1.2, 2.0)),  # Random sharpness\n",
    "        lambda img: ImageEnhance.Color(img).enhance(random.uniform(1.5, 2.5)),  # Random color enhancement\n",
    "    ]\n",
    "    return random.choice(options)\n",
    "\n",
    "def augment_and_save(class_name, target_count):\n",
    "    class_src = os.path.join(base_dir, class_name)\n",
    "    class_dst = os.path.join(output_dir, class_name)\n",
    "    os.makedirs(class_dst)\n",
    "\n",
    "    images = [f for f in os.listdir(class_src)]\n",
    "    original_count = len(images)\n",
    "    \n",
    "    for img in images:\n",
    "        shutil.copy(os.path.join(class_src, img), os.path.join(class_dst, img))\n",
    "    extra_needed = target_count - original_count\n",
    "    if extra_needed <= 0:\n",
    "        return\n",
    "        \n",
    "    print(f\"Need to generate {extra_needed} more images for {class_name}\")\n",
    "        \n",
    "    for i in range(extra_needed):\n",
    "        img_name = random.choice(images)\n",
    "        try:\n",
    "            with Image.open(os.path.join(class_src, img_name)) as img:\n",
    "                img = img.convert(\"RGB\").resize(img_size)\n",
    "                transformed_img = get_random_transform()(img)\n",
    "                save_name = f\"aug{i}_{img_name}\"\n",
    "                transformed_img.save(os.path.join(class_dst, save_name))\n",
    "        except Exception as e:\n",
    "            print(f\"Error while augmenting: {e}\")\n",
    "for class_name in labels:\n",
    "    augment_and_save(class_name, target_count)\n",
    "print(\"Augmentation complete for all classes!.\")"
   ],
   "metadata": {
    "collapsed": false,
    "ExecuteTime": {
     "end_time": "2025-06-09T09:20:31.599876Z",
     "start_time": "2025-06-09T09:20:15.083583Z"
    }
   },
   "id": "825a354a87a79b83",
   "execution_count": 2
  },
  {
   "cell_type": "markdown",
   "source": [
    "The Datasets brain tumor and breast cancer are already preprocessed. The PROSTATE_MRI datasets needs full preprocessing."
   ],
   "metadata": {
    "collapsed": false
   },
   "id": "4a4c4888192cd3a2"
  },
  {
   "cell_type": "markdown",
   "source": [
    "# Breast Cancer"
   ],
   "metadata": {
    "collapsed": false
   },
   "id": "5204f7699a91b9ab"
  },
  {
   "cell_type": "code",
   "outputs": [],
   "source": [
    "breast_cancer_dir =  \"./datasets/breast-cancer-detection/versions/1/\"\n",
    "# Move preprocessed data to ./datasets/preprocessed\n"
   ],
   "metadata": {
    "collapsed": false
   },
   "id": "841b0a26c7c38c7f"
  }
 ],
 "metadata": {
  "kernelspec": {
   "display_name": "Python 3",
   "language": "python",
   "name": "python3"
  },
  "language_info": {
   "codemirror_mode": {
    "name": "ipython",
    "version": 2
   },
   "file_extension": ".py",
   "mimetype": "text/x-python",
   "name": "python",
   "nbconvert_exporter": "python",
   "pygments_lexer": "ipython2",
   "version": "2.7.6"
  }
 },
 "nbformat": 4,
 "nbformat_minor": 5
}
